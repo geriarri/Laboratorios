{
 "cells": [
  {
   "cell_type": "markdown",
   "metadata": {
    "cell_id": "00000-7111e3ae-b60e-4569-b774-a13ef1b95f77",
    "deepnote_cell_height": 156.390625,
    "deepnote_cell_type": "markdown",
    "id": "XUZ1dFPHzAHl"
   },
   "source": [
    "<h1><center>Laboratorio 8: ¿Superhéroe o Villano? 🦸</center></h1>\n",
    "\n",
    "<center><strong>MDS7202: Laboratorio de Programación Científica para Ciencia de Datos</strong></center>"
   ]
  },
  {
   "cell_type": "markdown",
   "metadata": {
    "cell_id": "00001-988ebcea-7685-4ad4-968d-5530ff0099a7",
    "deepnote_cell_height": 165.171875,
    "deepnote_cell_type": "markdown",
    "id": "UD8X1uhGzAHq"
   },
   "source": [
    "### Cuerpo Docente:\n",
    "\n",
    "- Profesor: Pablo Badilla\n",
    "- Auxiliar: Ignacio Meza D.\n",
    "- Ayudante: Patricio Ortiz."
   ]
  },
  {
   "cell_type": "markdown",
   "metadata": {
    "cell_id": "00002-038ebafa-6641-4c2a-b2e8-62ad2018b88e",
    "deepnote_cell_height": 171.78125,
    "deepnote_cell_type": "markdown",
    "id": "tXflExjqzAHr"
   },
   "source": [
    "### Equipo: SUPER IMPORTANTE - notebooks sin nombre no serán revisados\n",
    "\n",
    "- Nombre de alumno 1: Geraldine Arce"
   ]
  },
  {
   "cell_type": "markdown",
   "metadata": {
    "cell_id": "00003-913d0cc4-e146-4ff9-a0e3-26a20c808d7c",
    "deepnote_cell_height": 63,
    "deepnote_cell_type": "markdown",
    "id": "AD-V0bbZzAHr"
   },
   "source": [
    "### **Link de repositorio de GitHub:** `http://....`"
   ]
  },
  {
   "cell_type": "markdown",
   "metadata": {
    "cell_id": "00005-64f7c2d0-4287-4f3a-9b4b-2c5b829f606c",
    "deepnote_cell_height": 651.640625,
    "deepnote_cell_type": "markdown",
    "id": "6uBLPj1PzAHs"
   },
   "source": [
    "## Temas a tratar\n",
    "\n",
    "- Codificación de texto usando Bag of Words.\n",
    "- Búsqueda del modelo óptimo de clasificación usando `GridSearch`\n",
    "- Uso de pipelines.\n",
    "\n",
    "## Reglas:\n",
    "\n",
    "- Fecha de entrega: 23/06/2022\n",
    "- **Grupos de 2 personas**\n",
    "- **Ausentes** deberán realizar la actividad solos. \n",
    "- Cualquier duda fuera del horario de clases al foro. Mensajes al equipo docente serán respondidos por este medio.\n",
    "- Prohibidas las copias. \n",
    "- Pueden usar cualquer matrial del curso que estimen conveniente.\n",
    "\n",
    "### Objetivos principales del laboratorio\n",
    "\n",
    "- Obtener caracteristicas a partir de texto usando `CountVectorizer`.\n",
    "- Fijar un pipeline con un modelo base que luego se irá optimizando.\n",
    "- Comprender como realizar una búsqueda de grilla sobre un conjunto de clasificadores e hiperparámetros usando `GridSearch`.\n",
    "\n",
    "El laboratorio deberá ser desarrollado sin el uso indiscriminado de iteradores nativos de python (aka \"for\", \"while\"). La idea es que aprendan a exprimir al máximo las funciones optimizadas que nos entrega `pandas`, las cuales vale mencionar, son bastante más eficientes que los iteradores nativos sobre DataFrames."
   ]
  },
  {
   "cell_type": "markdown",
   "metadata": {
    "cell_id": "00006-b8353b3b-8f85-4aa6-9379-96902d3d0bf3",
    "deepnote_cell_height": 52.390625,
    "deepnote_cell_type": "markdown",
    "id": "MhISwri4zAHy"
   },
   "source": [
    "#Importamos librerias utiles 😸"
   ]
  },
  {
   "cell_type": "code",
   "execution_count": 1,
   "metadata": {
    "ExecuteTime": {
     "end_time": "2021-03-29T00:08:16.884674Z",
     "start_time": "2021-03-29T00:08:16.349846Z"
    },
    "cell_id": "00007-e696189c-3187-4899-bf04-8034b0e8a595",
    "colab": {
     "base_uri": "https://localhost:8080/"
    },
    "deepnote_cell_height": 1509.1875,
    "deepnote_cell_type": "code",
    "deepnote_output_heights": [
     null,
     21.1875
    ],
    "deepnote_to_be_reexecuted": false,
    "executionInfo": {
     "elapsed": 9106,
     "status": "ok",
     "timestamp": 1625497725070,
     "user": {
      "displayName": "IGNACIO ALEJANDRO MEZA",
      "photoUrl": "",
      "userId": "17011121633069169364"
     },
     "user_tz": 240
    },
    "execution_millis": 36497,
    "execution_start": 1637348694866,
    "id": "uyc33dKdzAHy",
    "outputId": "14d5da48-5dae-4ce4-a8ba-b826ea91a126",
    "source_hash": "7ce9748b"
   },
   "outputs": [
    {
     "name": "stdout",
     "output_type": "stream",
     "text": [
      "Collecting plotly\n",
      "  Downloading plotly-5.9.0-py2.py3-none-any.whl (15.2 MB)\n",
      "Requirement already satisfied, skipping upgrade: tenacity>=6.2.0 in c:\\users\\geria\\anaconda3\\lib\\site-packages (from plotly) (8.0.1)\n",
      "Installing collected packages: plotly\n",
      "  Attempting uninstall: plotly\n",
      "    Found existing installation: plotly 5.8.0\n",
      "    Uninstalling plotly-5.8.0:\n",
      "      Successfully uninstalled plotly-5.8.0\n",
      "Successfully installed plotly-5.9.0\n",
      "Collecting umap-learn\n",
      "  Downloading umap-learn-0.5.3.tar.gz (88 kB)\n",
      "Requirement already satisfied: numpy>=1.17 in c:\\users\\geria\\anaconda3\\lib\\site-packages (from umap-learn) (1.19.2)\n",
      "Requirement already satisfied: scikit-learn>=0.22 in c:\\users\\geria\\anaconda3\\lib\\site-packages (from umap-learn) (1.0.2)\n",
      "Requirement already satisfied: scipy>=1.0 in c:\\users\\geria\\anaconda3\\lib\\site-packages (from umap-learn) (1.5.2)\n",
      "Requirement already satisfied: numba>=0.49 in c:\\users\\geria\\anaconda3\\lib\\site-packages (from umap-learn) (0.51.2)\n",
      "Requirement already satisfied: pynndescent>=0.5 in c:\\users\\geria\\anaconda3\\lib\\site-packages (from umap-learn) (0.5.2)\n",
      "Requirement already satisfied: tqdm in c:\\users\\geria\\anaconda3\\lib\\site-packages (from umap-learn) (4.50.2)\n",
      "Requirement already satisfied: joblib>=0.11 in c:\\users\\geria\\anaconda3\\lib\\site-packages (from scikit-learn>=0.22->umap-learn) (0.17.0)\n",
      "Requirement already satisfied: threadpoolctl>=2.0.0 in c:\\users\\geria\\anaconda3\\lib\\site-packages (from scikit-learn>=0.22->umap-learn) (2.1.0)\n",
      "Requirement already satisfied: llvmlite<0.35,>=0.34.0.dev0 in c:\\users\\geria\\anaconda3\\lib\\site-packages (from numba>=0.49->umap-learn) (0.34.0)\n",
      "Requirement already satisfied: setuptools in c:\\users\\geria\\anaconda3\\lib\\site-packages (from numba>=0.49->umap-learn) (50.3.1.post20201107)\n",
      "Building wheels for collected packages: umap-learn\n",
      "  Building wheel for umap-learn (setup.py): started\n",
      "  Building wheel for umap-learn (setup.py): finished with status 'done'\n",
      "  Created wheel for umap-learn: filename=umap_learn-0.5.3-py3-none-any.whl size=82825 sha256=e6f775c8e398639a593554aea232e68f80c86e18c32c9b05b18cc27c2c2626f0\n",
      "  Stored in directory: c:\\users\\geria\\appdata\\local\\pip\\cache\\wheels\\a9\\3a\\67\\06a8950e053725912e6a8c42c4a3a241410f6487b8402542ea\n",
      "Successfully built umap-learn\n",
      "Installing collected packages: umap-learn\n",
      "Successfully installed umap-learn-0.5.3\n",
      "Requirement already satisfied: nltk in c:\\users\\geria\\anaconda3\\lib\\site-packages (3.5)\n",
      "Requirement already satisfied: regex in c:\\users\\geria\\anaconda3\\lib\\site-packages (from nltk) (2020.10.15)\n",
      "Requirement already satisfied: tqdm in c:\\users\\geria\\anaconda3\\lib\\site-packages (from nltk) (4.50.2)\n",
      "Requirement already satisfied: joblib in c:\\users\\geria\\anaconda3\\lib\\site-packages (from nltk) (0.17.0)\n",
      "Requirement already satisfied: click in c:\\users\\geria\\anaconda3\\lib\\site-packages (from nltk) (7.1.2)\n"
     ]
    },
    {
     "name": "stderr",
     "output_type": "stream",
     "text": [
      "[nltk_data] Downloading package stopwords to\n",
      "[nltk_data]     C:\\Users\\geria\\AppData\\Roaming\\nltk_data...\n",
      "[nltk_data]   Unzipping corpora\\stopwords.zip.\n"
     ]
    },
    {
     "data": {
      "text/plain": [
       "True"
      ]
     },
     "execution_count": 1,
     "metadata": {},
     "output_type": "execute_result"
    }
   ],
   "source": [
    "# Librería Core del lab.\n",
    "import numpy as np\n",
    "import pandas as pd\n",
    "from sklearn.pipeline import Pipeline\n",
    "\n",
    "from sklearn.model_selection import train_test_split \n",
    "\n",
    "# Pre-procesamiento\n",
    "from sklearn.feature_selection import SelectPercentile, f_classif\n",
    "from sklearn.compose import ColumnTransformer\n",
    "from sklearn.preprocessing import MinMaxScaler\n",
    "from sklearn.feature_extraction.text import CountVectorizer\n",
    "\n",
    "# Clasifación\n",
    "from sklearn.svm import SVC\n",
    "from sklearn.naive_bayes import MultinomialNB\n",
    "from sklearn.tree import DecisionTreeClassifier\n",
    "from sklearn.model_selection import GridSearchCV\n",
    "from sklearn.ensemble import RandomForestClassifier\n",
    "from sklearn.linear_model import LogisticRegression\n",
    "\n",
    "# Metricas de evaluación\n",
    "from sklearn.metrics import classification_report\n",
    "from sklearn.metrics import accuracy_score\n",
    "from sklearn.metrics import f1_score\n",
    "from sklearn.metrics import cohen_kappa_score\n",
    "\n",
    "# Librería para plotear\n",
    "!pip install --upgrade plotly\n",
    "import plotly.express as px\n",
    "from plotly.subplots import make_subplots\n",
    "import plotly.graph_objects as go\n",
    "\n",
    "# Proyecciones en baja dimensionalidad: UMAP\n",
    "!pip install umap-learn\n",
    "\n",
    "# Librería para NLP\n",
    "!pip install nltk\n",
    "import nltk\n",
    "from nltk.corpus import stopwords\n",
    "from nltk import word_tokenize  \n",
    "from nltk.stem import PorterStemmer\n",
    "nltk.download('stopwords')"
   ]
  },
  {
   "cell_type": "markdown",
   "metadata": {
    "cell_id": "00008-9c535dd9-01e0-4804-a325-7b5d36a20a32",
    "deepnote_cell_height": 82,
    "deepnote_cell_type": "markdown",
    "id": "xpOTbQcxbSiy"
   },
   "source": [
    "# 1. ¿Quien es Bat Cow?"
   ]
  },
  {
   "cell_type": "markdown",
   "metadata": {
    "cell_id": "00009-43ac5618-611f-4712-aec7-faaa53d72d08",
    "deepnote_cell_height": 347.8125,
    "deepnote_cell_type": "markdown",
    "id": "3Q93vbNS25bM"
   },
   "source": [
    "<p align=\"center\">\n",
    "  <img src=\"https://i.imgur.com/D9f1RHy.jpg\" width=\"350\">\n",
    "</p>"
   ]
  },
  {
   "cell_type": "markdown",
   "metadata": {
    "cell_id": "00010-632e9494-ce9c-4d54-8e57-e700baed4302",
    "deepnote_cell_height": 503.03125,
    "deepnote_cell_type": "markdown",
    "id": "jnmZfFpxTTYX"
   },
   "source": [
    "En vez de estar desarrollando las evaluaciones correspondientes a su curso, su profesor de catedra y su auxiliar discuten acerca la alineación (héroe o villano) del personaje de ficción Bat-Cow. \n",
    "\n",
    "El cuerpo docente, no logra ponerse de acuerdo si el personaje es bueno, neutral o malo: el auxiliar plantea que Bat-cow posee una siniestra mirada, intrigante pero común característica de los personajes malvados. \n",
    "Por otra parte, extendiendo las ideas de Rousseau, el profesor plantea que tal como los humanos no nacen malos, no existe motivo por el cual una vaca con superpoderes deba serlo.\n",
    "\n",
    "Sin embargo, ambos concuerdan que es difícil estimar la alineación solo usando los atributos físicos, por lo que creen el análisis debe ser complementado aún más antes de comunicarle los resultados a su estudiantado. Buscando más información, ambos sujetos se percatan de la existencia de un excelente antecedente para estimar la alineación: la historia personal de cada superhéroe o villano.\n",
    "\n",
    "Es por esto le solicitan que construya y optimice un clasificador basado en texto el cual analice la alineación de cada personaje basado en su historia personal.\n",
    "\n",
    "Para este laboratorio deben trabajar con los datos `df_comics.csv` y `comics_no_label.csv` subidos a u-cursos. El primero es un conjunto de datos que les servirá para entrenar un modelo de clasificación, mientras que el segundo es un dataset con personajes de ficción no etiquetados a predecir (sí, aquí está la misteriosa Batcow).\n",
    "\n",
    "Para comenzar cargue los dataset señalados y visualice a través de un head los atributos que poseen cada uno de los dataset.\n"
   ]
  },
  {
   "cell_type": "code",
   "execution_count": null,
   "metadata": {
    "cell_id": "00011-9a36781e-c26a-46de-b4bf-a5448a347cab",
    "colab": {
     "base_uri": "https://localhost:8080/"
    },
    "deepnote_cell_height": 220.1875,
    "deepnote_cell_type": "code",
    "deepnote_to_be_reexecuted": false,
    "executionInfo": {
     "elapsed": 5,
     "status": "ok",
     "timestamp": 1625497735673,
     "user": {
      "displayName": "IGNACIO ALEJANDRO MEZA",
      "photoUrl": "",
      "userId": "17011121633069169364"
     },
     "user_tz": 240
    },
    "execution_millis": 27,
    "execution_start": 1637348657022,
    "id": "Jqq-s010Iwl1",
    "outputId": "bc29f770-d066-4443-8cee-00e3db46c629",
    "source_hash": "c60dc4a7"
   },
   "outputs": [
    {
     "name": "stdout",
     "output_type": "stream",
     "text": [
      "Ignorando conexión drive-colab\n"
     ]
    }
   ],
   "source": [
    "# Si usted está utilizando Colabolatory le puede ser útil este código para cargar los archivos.\n",
    "# try:\n",
    "#     from google.colab import drive\n",
    "#     drive.mount(\"/content/drive\")\n",
    "#     path = 'Dirección donde tiene los archivos en el Drive'\n",
    "# except: \n",
    "#     print('Ignorando conexión drive-colab')"
   ]
  },
  {
   "cell_type": "code",
   "execution_count": 44,
   "metadata": {
    "cell_id": "00012-8b0c36c2-aeaa-4ba1-9611-45f0599aa584",
    "deepnote_cell_height": 117,
    "deepnote_cell_type": "code",
    "deepnote_to_be_reexecuted": false,
    "executionInfo": {
     "elapsed": 289,
     "status": "ok",
     "timestamp": 1625499009249,
     "user": {
      "displayName": "IGNACIO ALEJANDRO MEZA",
      "photoUrl": "",
      "userId": "17011121633069169364"
     },
     "user_tz": 240
    },
    "execution_millis": 325,
    "execution_start": 1637348732856,
    "id": "bED3w3tDbSCf",
    "source_hash": "443d6e8"
   },
   "outputs": [],
   "source": [
    "df_comics = pd.read_csv('df_comics.csv')\n",
    "df_comics_no_label = pd.read_csv('comics_no_label.csv')\n",
    "df_comics = df_comics.dropna(subset=['history_text']) # eliminar ejemplos sin historia"
   ]
  },
  {
   "cell_type": "code",
   "execution_count": 45,
   "metadata": {
    "cell_id": "00013-2cd3a433-4f43-4a9e-92f5-caf54a662db2",
    "deepnote_cell_height": 323.1875,
    "deepnote_cell_type": "code",
    "deepnote_output_heights": [
     208.1875
    ],
    "deepnote_to_be_reexecuted": false,
    "execution_millis": 654,
    "execution_start": 1637348731943,
    "source_hash": "b986316d",
    "tags": []
   },
   "outputs": [
    {
     "data": {
      "text/html": [
       "<div>\n",
       "<style scoped>\n",
       "    .dataframe tbody tr th:only-of-type {\n",
       "        vertical-align: middle;\n",
       "    }\n",
       "\n",
       "    .dataframe tbody tr th {\n",
       "        vertical-align: top;\n",
       "    }\n",
       "\n",
       "    .dataframe thead th {\n",
       "        text-align: right;\n",
       "    }\n",
       "</style>\n",
       "<table border=\"1\" class=\"dataframe\">\n",
       "  <thead>\n",
       "    <tr style=\"text-align: right;\">\n",
       "      <th></th>\n",
       "      <th>Unnamed: 0</th>\n",
       "      <th>name</th>\n",
       "      <th>real_name</th>\n",
       "      <th>full_name</th>\n",
       "      <th>overall_score</th>\n",
       "      <th>history_text</th>\n",
       "      <th>powers_text</th>\n",
       "      <th>intelligence_score</th>\n",
       "      <th>strength_score</th>\n",
       "      <th>speed_score</th>\n",
       "      <th>...</th>\n",
       "      <th>has_flight</th>\n",
       "      <th>has_accelerated_healing</th>\n",
       "      <th>has_weapons_master</th>\n",
       "      <th>has_intelligence</th>\n",
       "      <th>has_reflexes</th>\n",
       "      <th>has_super_speed</th>\n",
       "      <th>has_durability</th>\n",
       "      <th>has_stamina</th>\n",
       "      <th>has_agility</th>\n",
       "      <th>has_super_strength</th>\n",
       "    </tr>\n",
       "  </thead>\n",
       "  <tbody>\n",
       "    <tr>\n",
       "      <th>0</th>\n",
       "      <td>0</td>\n",
       "      <td>3-D Man</td>\n",
       "      <td>Delroy Garrett, Jr.</td>\n",
       "      <td>Delroy Garrett, Jr.</td>\n",
       "      <td>6</td>\n",
       "      <td>Delroy Garrett, Jr. grew up to become a track ...</td>\n",
       "      <td>NaN</td>\n",
       "      <td>85</td>\n",
       "      <td>30</td>\n",
       "      <td>60</td>\n",
       "      <td>...</td>\n",
       "      <td>0.0</td>\n",
       "      <td>0.0</td>\n",
       "      <td>0.0</td>\n",
       "      <td>0.0</td>\n",
       "      <td>0.0</td>\n",
       "      <td>1.0</td>\n",
       "      <td>0.0</td>\n",
       "      <td>0.0</td>\n",
       "      <td>0.0</td>\n",
       "      <td>1.0</td>\n",
       "    </tr>\n",
       "    <tr>\n",
       "      <th>1</th>\n",
       "      <td>2</td>\n",
       "      <td>A-Bomb</td>\n",
       "      <td>Richard Milhouse Jones</td>\n",
       "      <td>Richard Milhouse Jones</td>\n",
       "      <td>20</td>\n",
       "      <td>Richard \"Rick\" Jones was orphaned at a young ...</td>\n",
       "      <td>On rare occasions, and through unusual circu...</td>\n",
       "      <td>80</td>\n",
       "      <td>100</td>\n",
       "      <td>80</td>\n",
       "      <td>...</td>\n",
       "      <td>0.0</td>\n",
       "      <td>1.0</td>\n",
       "      <td>0.0</td>\n",
       "      <td>0.0</td>\n",
       "      <td>1.0</td>\n",
       "      <td>1.0</td>\n",
       "      <td>1.0</td>\n",
       "      <td>1.0</td>\n",
       "      <td>1.0</td>\n",
       "      <td>1.0</td>\n",
       "    </tr>\n",
       "    <tr>\n",
       "      <th>2</th>\n",
       "      <td>3</td>\n",
       "      <td>Aa</td>\n",
       "      <td>Aa</td>\n",
       "      <td>NaN</td>\n",
       "      <td>12</td>\n",
       "      <td>Aa is one of the more passive members of the P...</td>\n",
       "      <td>NaN</td>\n",
       "      <td>80</td>\n",
       "      <td>50</td>\n",
       "      <td>55</td>\n",
       "      <td>...</td>\n",
       "      <td>0.0</td>\n",
       "      <td>0.0</td>\n",
       "      <td>0.0</td>\n",
       "      <td>0.0</td>\n",
       "      <td>0.0</td>\n",
       "      <td>0.0</td>\n",
       "      <td>0.0</td>\n",
       "      <td>0.0</td>\n",
       "      <td>0.0</td>\n",
       "      <td>0.0</td>\n",
       "    </tr>\n",
       "    <tr>\n",
       "      <th>3</th>\n",
       "      <td>4</td>\n",
       "      <td>Aaron Cash</td>\n",
       "      <td>Aaron Cash</td>\n",
       "      <td>Aaron Cash</td>\n",
       "      <td>5</td>\n",
       "      <td>Aaron Cash is the head of security at Arkham A...</td>\n",
       "      <td>NaN</td>\n",
       "      <td>80</td>\n",
       "      <td>10</td>\n",
       "      <td>25</td>\n",
       "      <td>...</td>\n",
       "      <td>0.0</td>\n",
       "      <td>0.0</td>\n",
       "      <td>1.0</td>\n",
       "      <td>0.0</td>\n",
       "      <td>0.0</td>\n",
       "      <td>0.0</td>\n",
       "      <td>0.0</td>\n",
       "      <td>0.0</td>\n",
       "      <td>0.0</td>\n",
       "      <td>0.0</td>\n",
       "    </tr>\n",
       "    <tr>\n",
       "      <th>4</th>\n",
       "      <td>5</td>\n",
       "      <td>Aayla Secura</td>\n",
       "      <td>Aayla Secura</td>\n",
       "      <td>NaN</td>\n",
       "      <td>8</td>\n",
       "      <td>ayla Secura was a Rutian Twi'lek Jedi Knight (...</td>\n",
       "      <td>NaN</td>\n",
       "      <td>90</td>\n",
       "      <td>40</td>\n",
       "      <td>45</td>\n",
       "      <td>...</td>\n",
       "      <td>0.0</td>\n",
       "      <td>1.0</td>\n",
       "      <td>0.0</td>\n",
       "      <td>0.0</td>\n",
       "      <td>0.0</td>\n",
       "      <td>0.0</td>\n",
       "      <td>0.0</td>\n",
       "      <td>0.0</td>\n",
       "      <td>1.0</td>\n",
       "      <td>0.0</td>\n",
       "    </tr>\n",
       "  </tbody>\n",
       "</table>\n",
       "<p>5 rows × 82 columns</p>\n",
       "</div>"
      ],
      "text/plain": [
       "   Unnamed: 0          name               real_name               full_name  \\\n",
       "0           0       3-D Man     Delroy Garrett, Jr.     Delroy Garrett, Jr.   \n",
       "1           2        A-Bomb  Richard Milhouse Jones  Richard Milhouse Jones   \n",
       "2           3            Aa                      Aa                     NaN   \n",
       "3           4    Aaron Cash              Aaron Cash              Aaron Cash   \n",
       "4           5  Aayla Secura            Aayla Secura                     NaN   \n",
       "\n",
       "  overall_score                                       history_text  \\\n",
       "0             6  Delroy Garrett, Jr. grew up to become a track ...   \n",
       "1            20   Richard \"Rick\" Jones was orphaned at a young ...   \n",
       "2            12  Aa is one of the more passive members of the P...   \n",
       "3             5  Aaron Cash is the head of security at Arkham A...   \n",
       "4             8  ayla Secura was a Rutian Twi'lek Jedi Knight (...   \n",
       "\n",
       "                                         powers_text  intelligence_score  \\\n",
       "0                                                NaN                  85   \n",
       "1    On rare occasions, and through unusual circu...                  80   \n",
       "2                                                NaN                  80   \n",
       "3                                                NaN                  80   \n",
       "4                                                NaN                  90   \n",
       "\n",
       "   strength_score  speed_score  ...  has_flight  has_accelerated_healing  \\\n",
       "0              30           60  ...         0.0                      0.0   \n",
       "1             100           80  ...         0.0                      1.0   \n",
       "2              50           55  ...         0.0                      0.0   \n",
       "3              10           25  ...         0.0                      0.0   \n",
       "4              40           45  ...         0.0                      1.0   \n",
       "\n",
       "   has_weapons_master has_intelligence has_reflexes has_super_speed  \\\n",
       "0                 0.0              0.0          0.0             1.0   \n",
       "1                 0.0              0.0          1.0             1.0   \n",
       "2                 0.0              0.0          0.0             0.0   \n",
       "3                 1.0              0.0          0.0             0.0   \n",
       "4                 0.0              0.0          0.0             0.0   \n",
       "\n",
       "  has_durability has_stamina has_agility has_super_strength  \n",
       "0            0.0         0.0         0.0                1.0  \n",
       "1            1.0         1.0         1.0                1.0  \n",
       "2            0.0         0.0         0.0                0.0  \n",
       "3            0.0         0.0         0.0                0.0  \n",
       "4            0.0         0.0         1.0                0.0  \n",
       "\n",
       "[5 rows x 82 columns]"
      ]
     },
     "execution_count": 45,
     "metadata": {},
     "output_type": "execute_result"
    }
   ],
   "source": [
    "# queda a labor de su equipo hacer el análisis exploratorio\n",
    "df_comics.head()"
   ]
  },
  {
   "cell_type": "code",
   "execution_count": 46,
   "metadata": {},
   "outputs": [
    {
     "data": {
      "text/plain": [
       "Index(['Unnamed: 0', 'name', 'real_name', 'full_name', 'overall_score',\n",
       "       'history_text', 'powers_text', 'intelligence_score', 'strength_score',\n",
       "       'speed_score', 'durability_score', 'power_score', 'combat_score',\n",
       "       'superpowers', 'alter_egos', 'aliases', 'place_of_birth',\n",
       "       'first_appearance', 'creator', 'alignment', 'occupation', 'base',\n",
       "       'teams', 'relatives', 'gender', 'type_race', 'height', 'weight',\n",
       "       'eye_color', 'hair_color', 'skin_color', 'img', 'has_electrokinesis',\n",
       "       'has_energy_constructs', 'has_mind_control_resistance',\n",
       "       'has_matter_manipulation', 'has_telepathy_resistance',\n",
       "       'has_mind_control', 'has_enhanced_hearing', 'has_dimensional_travel',\n",
       "       'has_element_control', 'has_size_changing', 'has_fire_resistance',\n",
       "       'has_fire_control', 'has_dexterity', 'has_reality_warping',\n",
       "       'has_illusions', 'has_energy_beams', 'has_peak_human_condition',\n",
       "       'has_shapeshifting', 'has_heat_resistance', 'has_jump',\n",
       "       'has_self-sustenance', 'has_energy_absorption', 'has_cold_resistance',\n",
       "       'has_magic', 'has_telekinesis', 'has_toxin_and_disease_resistance',\n",
       "       'has_telepathy', 'has_regeneration', 'has_immortality',\n",
       "       'has_teleportation', 'has_force_fields', 'has_energy_manipulation',\n",
       "       'has_endurance', 'has_longevity', 'has_weapon-based_powers',\n",
       "       'has_energy_blasts', 'has_enhanced_senses', 'has_invulnerability',\n",
       "       'has_stealth', 'has_marksmanship', 'has_flight',\n",
       "       'has_accelerated_healing', 'has_weapons_master', 'has_intelligence',\n",
       "       'has_reflexes', 'has_super_speed', 'has_durability', 'has_stamina',\n",
       "       'has_agility', 'has_super_strength'],\n",
       "      dtype='object')"
      ]
     },
     "execution_count": 46,
     "metadata": {},
     "output_type": "execute_result"
    }
   ],
   "source": [
    "df_comics.columns"
   ]
  },
  {
   "cell_type": "markdown",
   "metadata": {
    "cell_id": "00013-00e51eac-6169-4978-9714-ee8c7a8f55b8",
    "deepnote_cell_height": 410,
    "deepnote_cell_type": "markdown",
    "id": "i4tFPrFA4_O5"
   },
   "source": [
    "## 1.1 Obtención de Features y Bag of Words\n",
    "\n",
    "<p align=\"center\">\n",
    "  <img src=\"https://media0.giphy.com/media/eIUpSyzwGp0YhAMTKr/200.gif\" width=\"300\">\n",
    "</p>"
   ]
  },
  {
   "cell_type": "markdown",
   "metadata": {
    "cell_id": "00014-528c8f39-a27a-40e0-8de0-0cc7f362b4ae",
    "deepnote_cell_height": 561.859375,
    "deepnote_cell_type": "markdown",
    "id": "f_4NF0_V5XZ-"
   },
   "source": [
    "Primero que todo, deben obtener un vector de características del atributo `history_text`, utilizando `Bag of Words`. En este atributo se presenta una breve descripción de la historia de cada uno de los personajes de ficción presentes en el dataset. \n",
    "\n",
    "Pero... antes de empezar, ¿Que es `Bag of Words`?...\n",
    "\n",
    "`Bag of Words` es un modelo de conteo utilizado en Procesamiento de Lenguaje Natural (NLP) que tiene como objetivo generar una representación vectorial (vector de características en nuestro cas) para cada documento a través del conteo de las palabras que contienen. \n",
    "\n",
    "La siguiente figura muestra un ejemplo de `Bag of Words` en acción:\n",
    "\n",
    "<p align=\"center\">\n",
    "  <img src=\"https://user.oc-static.com/upload/2020/10/23/16034397439042_surfin%20bird%20bow.png\" width=\"500\">\n",
    "</p>\n",
    "\n",
    "Como pueden ver, el modelo de `Bag of Words` no resulta tan complicado, ¿pero cómo lo aplicamos en python?. \n",
    "\n",
    "Como podrán darse cuenta del ejemplo anterior, para facilitar el conteo será necesario transformar cada uno de los documentos en vectores, donde cada una de las posiciones posee un carácter. Este proceso es conocido como **tokenización** y lo podemos realizar de la siguiente forma:"
   ]
  },
  {
   "cell_type": "code",
   "execution_count": 49,
   "metadata": {
    "cell_id": "00015-5924cc55-1587-4776-8c5e-cb400ddacaa3",
    "deepnote_cell_height": 227.375,
    "deepnote_cell_type": "code",
    "deepnote_output_heights": [
     40.375
    ],
    "deepnote_to_be_reexecuted": false,
    "execution_millis": 8,
    "execution_start": 1637346921830,
    "source_hash": "57e4888a",
    "tags": []
   },
   "outputs": [
    {
     "data": {
      "text/plain": [
       "[['The', 'teacher', 'rocks', 'like', 'a', 'good', 'rock', '&', 'roll'],\n",
       " ['the', 'rock', 'is', 'the', 'best', 'actor', 'in', 'the', 'world']]"
      ]
     },
     "execution_count": 49,
     "metadata": {},
     "output_type": "execute_result"
    }
   ],
   "source": [
    "docs = ['The teacher rocks like a good rock & roll',\n",
    "          \n",
    "        'the rock is the best actor in the world']\n",
    "\n",
    "\n",
    "docs_tokenizados = [word_tokenize(doc)  for doc in docs]\n",
    "docs_tokenizados"
   ]
  },
  {
   "cell_type": "markdown",
   "metadata": {
    "cell_id": "00016-649b0384-cac3-4b79-93ff-75aac3b8c5df",
    "deepnote_cell_height": 424.125,
    "deepnote_cell_type": "markdown",
    "tags": []
   },
   "source": [
    "Podemos mejorar un poco más el proceso de tokenización agregando \n",
    "\n",
    "- Stemming:  Definimos Stemming como un algoritmo basado en reglas que transforma las palabras a una forma general. Un ejemplo de stemming, es el siguiente:\n",
    "- Eliminación de Stopwords: Eliminación de palabras muy frecuentes que entorpecen la clasificación (por ejemplo, el, la los, la, etc...)\n",
    "\n",
    "<p align=\"center\">\n",
    "  <img src=\"https://devopedia.org/images/article/218/8583.1569386710.png\" width=\"300\">\n",
    "</p>\n"
   ]
  },
  {
   "cell_type": "code",
   "execution_count": 50,
   "metadata": {
    "cell_id": "00017-52acaa25-55d2-49ee-a6c8-49437b8d4523",
    "deepnote_cell_height": 690.9375,
    "deepnote_cell_type": "code",
    "deepnote_output_heights": [
     null,
     59.5625
    ],
    "deepnote_to_be_reexecuted": false,
    "execution_millis": 36,
    "execution_start": 1637346924545,
    "source_hash": "d7f59237",
    "tags": []
   },
   "outputs": [
    {
     "name": "stderr",
     "output_type": "stream",
     "text": [
      "[nltk_data] Downloading package stopwords to\n",
      "[nltk_data]     C:\\Users\\geria\\AppData\\Roaming\\nltk_data...\n",
      "[nltk_data]   Package stopwords is already up-to-date!\n"
     ]
    },
    {
     "data": {
      "text/plain": [
       "[['the', 'teacher', 'rock', 'like', 'good', 'rock', '&', 'roll'],\n",
       " ['the', 'rock', 'is', 'the', 'best', 'actor', 'in', 'the', 'world'],\n",
       " ['new', 'york', 'is', 'beauti', 'citi']]"
      ]
     },
     "execution_count": 50,
     "metadata": {},
     "output_type": "execute_result"
    }
   ],
   "source": [
    "# Definimos algunas stopword que queremos que sean eliminadas\n",
    "import nltk\n",
    "nltk.download('stopwords')\n",
    "\n",
    "from nltk.corpus import stopwords\n",
    "\n",
    "stop_words = stopwords.words('spanish')\n",
    "\n",
    "# Definimos un tokenizador con Stemming\n",
    "class StemmerTokenizer:\n",
    "    def __init__(self):\n",
    "        self.ps = PorterStemmer()\n",
    "    def __call__(self, doc):\n",
    "        doc_tok = word_tokenize(doc)\n",
    "        doc_tok = [t for t in doc_tok if t not in stop_words]\n",
    "        return [self.ps.stem(t) for t in doc_tok]\n",
    "\n",
    "# Inicializamos tokenizador\n",
    "tokenizador = StemmerTokenizer()\n",
    "\n",
    "# Creamos algunos documentos\n",
    "docs = ['The teacher rocks like a good rock & roll',\n",
    "        'the rock is the best actor in the world',\n",
    "        'New York is a beautiful city']\n",
    "\n",
    "# Obtenemos el token del primer documento\n",
    "[tokenizador(doc) for doc in docs]"
   ]
  },
  {
   "cell_type": "code",
   "execution_count": 51,
   "metadata": {
    "cell_id": "00018-03a0f079-19df-42cb-b3b9-863a9e2ecb7a",
    "deepnote_cell_height": 192.5625,
    "deepnote_cell_type": "code",
    "deepnote_output_heights": [
     59.5625
    ],
    "deepnote_to_be_reexecuted": false,
    "execution_millis": 13,
    "execution_start": 1637346927213,
    "source_hash": "2503a9b4",
    "tags": []
   },
   "outputs": [
    {
     "data": {
      "text/plain": [
       "[['The', 'teacher', 'rocks', 'like', 'a', 'good', 'rock', '&', 'roll'],\n",
       " ['the', 'rock', 'is', 'the', 'best', 'actor', 'in', 'the', 'world'],\n",
       " ['New', 'York', 'is', 'a', 'beautiful', 'city']]"
      ]
     },
     "execution_count": 51,
     "metadata": {},
     "output_type": "execute_result"
    }
   ],
   "source": [
    "# Comparación con el caso anterior\n",
    "docs_tokenizados = [word_tokenize(doc) for doc in docs]\n",
    "docs_tokenizados"
   ]
  },
  {
   "cell_type": "markdown",
   "metadata": {
    "cell_id": "00019-3f862033-7b4e-4623-b17f-545b988af69b",
    "deepnote_cell_height": 110.78125,
    "deepnote_cell_type": "markdown",
    "tags": []
   },
   "source": [
    "#### Al Estilo Scikit\n",
    "\n",
    "Scikit implementa `bag of words` a través de la clase `CountVectorizer()` la cual contiene muchas opciones para mejorar la tokenización."
   ]
  },
  {
   "cell_type": "code",
   "execution_count": 52,
   "metadata": {
    "cell_id": "00020-721a6ba0-0990-4436-9de5-4b4b53c5ff79",
    "deepnote_cell_height": 270,
    "deepnote_cell_type": "code",
    "deepnote_output_heights": [
     119
    ],
    "deepnote_to_be_reexecuted": false,
    "execution_millis": 152,
    "execution_start": 1637346927803,
    "source_hash": "2bc7124d",
    "tags": []
   },
   "outputs": [
    {
     "data": {
      "text/html": [
       "<div>\n",
       "<style scoped>\n",
       "    .dataframe tbody tr th:only-of-type {\n",
       "        vertical-align: middle;\n",
       "    }\n",
       "\n",
       "    .dataframe tbody tr th {\n",
       "        vertical-align: top;\n",
       "    }\n",
       "\n",
       "    .dataframe thead th {\n",
       "        text-align: right;\n",
       "    }\n",
       "</style>\n",
       "<table border=\"1\" class=\"dataframe\">\n",
       "  <thead>\n",
       "    <tr style=\"text-align: right;\">\n",
       "      <th></th>\n",
       "      <th>&amp;</th>\n",
       "      <th>actor</th>\n",
       "      <th>beauti</th>\n",
       "      <th>best</th>\n",
       "      <th>citi</th>\n",
       "      <th>good</th>\n",
       "      <th>in</th>\n",
       "      <th>is</th>\n",
       "      <th>like</th>\n",
       "      <th>new</th>\n",
       "      <th>rock</th>\n",
       "      <th>roll</th>\n",
       "      <th>teacher</th>\n",
       "      <th>the</th>\n",
       "      <th>world</th>\n",
       "      <th>york</th>\n",
       "    </tr>\n",
       "  </thead>\n",
       "  <tbody>\n",
       "    <tr>\n",
       "      <th>0</th>\n",
       "      <td>1</td>\n",
       "      <td>0</td>\n",
       "      <td>0</td>\n",
       "      <td>0</td>\n",
       "      <td>0</td>\n",
       "      <td>1</td>\n",
       "      <td>0</td>\n",
       "      <td>0</td>\n",
       "      <td>1</td>\n",
       "      <td>0</td>\n",
       "      <td>2</td>\n",
       "      <td>1</td>\n",
       "      <td>1</td>\n",
       "      <td>1</td>\n",
       "      <td>0</td>\n",
       "      <td>0</td>\n",
       "    </tr>\n",
       "    <tr>\n",
       "      <th>1</th>\n",
       "      <td>0</td>\n",
       "      <td>1</td>\n",
       "      <td>0</td>\n",
       "      <td>1</td>\n",
       "      <td>0</td>\n",
       "      <td>0</td>\n",
       "      <td>1</td>\n",
       "      <td>1</td>\n",
       "      <td>0</td>\n",
       "      <td>0</td>\n",
       "      <td>1</td>\n",
       "      <td>0</td>\n",
       "      <td>0</td>\n",
       "      <td>3</td>\n",
       "      <td>1</td>\n",
       "      <td>0</td>\n",
       "    </tr>\n",
       "    <tr>\n",
       "      <th>2</th>\n",
       "      <td>0</td>\n",
       "      <td>0</td>\n",
       "      <td>1</td>\n",
       "      <td>0</td>\n",
       "      <td>1</td>\n",
       "      <td>0</td>\n",
       "      <td>0</td>\n",
       "      <td>1</td>\n",
       "      <td>0</td>\n",
       "      <td>1</td>\n",
       "      <td>0</td>\n",
       "      <td>0</td>\n",
       "      <td>0</td>\n",
       "      <td>0</td>\n",
       "      <td>0</td>\n",
       "      <td>1</td>\n",
       "    </tr>\n",
       "  </tbody>\n",
       "</table>\n",
       "</div>"
      ],
      "text/plain": [
       "   &  actor  beauti  best  citi  good  in  is  like  new  rock  roll  teacher  \\\n",
       "0  1      0       0     0     0     1   0   0     1    0     2     1        1   \n",
       "1  0      1       0     1     0     0   1   1     0    0     1     0        0   \n",
       "2  0      0       1     0     1     0   0   1     0    1     0     0        0   \n",
       "\n",
       "   the  world  york  \n",
       "0    1      0     0  \n",
       "1    3      1     0  \n",
       "2    0      0     1  "
      ]
     },
     "execution_count": 52,
     "metadata": {},
     "output_type": "execute_result"
    }
   ],
   "source": [
    "bow = CountVectorizer(tokenizer= StemmerTokenizer())\n",
    "df = bow.fit_transform(docs)\n",
    "\n",
    "pd.DataFrame(df.toarray(), columns=bow.get_feature_names_out())"
   ]
  },
  {
   "cell_type": "markdown",
   "metadata": {
    "cell_id": "00021-b3e721d0-6b1f-4f91-aef8-7b04028286fe",
    "deepnote_cell_height": 155.953125,
    "deepnote_cell_type": "markdown",
    "tags": []
   },
   "source": [
    "Una de las cosas más interesantes que provee son el use de n-gramas, los cuales, en palabras simples, son conjuntos de n-palabras que se concatenan entre si y que se consideran como tokens separados. \n",
    "\n",
    "Pensemos en `Nueva York`. Cuando se tokeniza Nueva York, se generan dos tokens independientes que a simple vista no tienen relación: `Nueva` `York`.\n",
    "Al usar n-gramas (en un rango min=1,max=2) , generamos tanto `Nueva` y `York` como también `Nueva York` como un token independiente."
   ]
  },
  {
   "cell_type": "code",
   "execution_count": 53,
   "metadata": {
    "cell_id": "00022-a7abf0fb-cbf2-4745-a96a-dcad9d4bc00f",
    "deepnote_cell_height": 301.1875,
    "deepnote_cell_type": "code",
    "deepnote_output_heights": [
     150.1875
    ],
    "deepnote_to_be_reexecuted": false,
    "execution_millis": 241,
    "execution_start": 1637346930092,
    "source_hash": "6af25c7e",
    "tags": []
   },
   "outputs": [
    {
     "data": {
      "text/html": [
       "<div>\n",
       "<style scoped>\n",
       "    .dataframe tbody tr th:only-of-type {\n",
       "        vertical-align: middle;\n",
       "    }\n",
       "\n",
       "    .dataframe tbody tr th {\n",
       "        vertical-align: top;\n",
       "    }\n",
       "\n",
       "    .dataframe thead th {\n",
       "        text-align: right;\n",
       "    }\n",
       "</style>\n",
       "<table border=\"1\" class=\"dataframe\">\n",
       "  <thead>\n",
       "    <tr style=\"text-align: right;\">\n",
       "      <th></th>\n",
       "      <th>&amp;</th>\n",
       "      <th>&amp; roll</th>\n",
       "      <th>actor</th>\n",
       "      <th>actor in</th>\n",
       "      <th>beauti</th>\n",
       "      <th>beauti citi</th>\n",
       "      <th>best</th>\n",
       "      <th>best actor</th>\n",
       "      <th>citi</th>\n",
       "      <th>good</th>\n",
       "      <th>...</th>\n",
       "      <th>teacher</th>\n",
       "      <th>teacher rock</th>\n",
       "      <th>the</th>\n",
       "      <th>the best</th>\n",
       "      <th>the rock</th>\n",
       "      <th>the teacher</th>\n",
       "      <th>the world</th>\n",
       "      <th>world</th>\n",
       "      <th>york</th>\n",
       "      <th>york is</th>\n",
       "    </tr>\n",
       "  </thead>\n",
       "  <tbody>\n",
       "    <tr>\n",
       "      <th>0</th>\n",
       "      <td>1</td>\n",
       "      <td>1</td>\n",
       "      <td>0</td>\n",
       "      <td>0</td>\n",
       "      <td>0</td>\n",
       "      <td>0</td>\n",
       "      <td>0</td>\n",
       "      <td>0</td>\n",
       "      <td>0</td>\n",
       "      <td>1</td>\n",
       "      <td>...</td>\n",
       "      <td>1</td>\n",
       "      <td>1</td>\n",
       "      <td>1</td>\n",
       "      <td>0</td>\n",
       "      <td>0</td>\n",
       "      <td>1</td>\n",
       "      <td>0</td>\n",
       "      <td>0</td>\n",
       "      <td>0</td>\n",
       "      <td>0</td>\n",
       "    </tr>\n",
       "    <tr>\n",
       "      <th>1</th>\n",
       "      <td>0</td>\n",
       "      <td>0</td>\n",
       "      <td>1</td>\n",
       "      <td>1</td>\n",
       "      <td>0</td>\n",
       "      <td>0</td>\n",
       "      <td>1</td>\n",
       "      <td>1</td>\n",
       "      <td>0</td>\n",
       "      <td>0</td>\n",
       "      <td>...</td>\n",
       "      <td>0</td>\n",
       "      <td>0</td>\n",
       "      <td>3</td>\n",
       "      <td>1</td>\n",
       "      <td>1</td>\n",
       "      <td>0</td>\n",
       "      <td>1</td>\n",
       "      <td>1</td>\n",
       "      <td>0</td>\n",
       "      <td>0</td>\n",
       "    </tr>\n",
       "    <tr>\n",
       "      <th>2</th>\n",
       "      <td>0</td>\n",
       "      <td>0</td>\n",
       "      <td>0</td>\n",
       "      <td>0</td>\n",
       "      <td>1</td>\n",
       "      <td>1</td>\n",
       "      <td>0</td>\n",
       "      <td>0</td>\n",
       "      <td>1</td>\n",
       "      <td>0</td>\n",
       "      <td>...</td>\n",
       "      <td>0</td>\n",
       "      <td>0</td>\n",
       "      <td>0</td>\n",
       "      <td>0</td>\n",
       "      <td>0</td>\n",
       "      <td>0</td>\n",
       "      <td>0</td>\n",
       "      <td>0</td>\n",
       "      <td>1</td>\n",
       "      <td>1</td>\n",
       "    </tr>\n",
       "  </tbody>\n",
       "</table>\n",
       "<p>3 rows × 35 columns</p>\n",
       "</div>"
      ],
      "text/plain": [
       "   &  & roll  actor  actor in  beauti  beauti citi  best  best actor  citi  \\\n",
       "0  1       1      0         0       0            0     0           0     0   \n",
       "1  0       0      1         1       0            0     1           1     0   \n",
       "2  0       0      0         0       1            1     0           0     1   \n",
       "\n",
       "   good  ...  teacher  teacher rock  the  the best  the rock  the teacher  \\\n",
       "0     1  ...        1             1    1         0         0            1   \n",
       "1     0  ...        0             0    3         1         1            0   \n",
       "2     0  ...        0             0    0         0         0            0   \n",
       "\n",
       "   the world  world  york  york is  \n",
       "0          0      0     0        0  \n",
       "1          1      1     0        0  \n",
       "2          0      0     1        1  \n",
       "\n",
       "[3 rows x 35 columns]"
      ]
     },
     "execution_count": 53,
     "metadata": {},
     "output_type": "execute_result"
    }
   ],
   "source": [
    "bow = CountVectorizer(tokenizer= StemmerTokenizer(), ngram_range=(1,2))\n",
    "df = bow.fit_transform(docs)\n",
    "\n",
    "pd.DataFrame(df.toarray(), columns=bow.get_feature_names_out())"
   ]
  },
  {
   "cell_type": "markdown",
   "metadata": {
    "cell_id": "00023-55bca23d-f3d4-4f39-ae9d-e8810b522c79",
    "deepnote_cell_height": 97.171875,
    "deepnote_cell_type": "markdown",
    "tags": []
   },
   "source": [
    "De los resultados, podemos ver que generamos vectores de conteo para cada una de las palabras que conforman el corpus.  Un punto extra que se agrega en esta obtención de frecuencias son los bigramas, que básicamente son el conjunto de palabras de tamaño de aparecen juntas en el texto."
   ]
  },
  {
   "cell_type": "markdown",
   "metadata": {
    "cell_id": "00024-231f49a8-163f-457d-b933-9e5dad0e1e29",
    "deepnote_cell_height": 547,
    "deepnote_cell_type": "markdown",
    "tags": []
   },
   "source": [
    "## Codificando los Super{heroes, villanos}  [0.5 Puntos]\n",
    "\n",
    "<p align=\"center\">\n",
    "  <img src=\"https://c.tenor.com/LkQzw7k5DV4AAAAd/anime-hacking.gif\" width=\"300\">\n",
    "</p>\n",
    "\n",
    "Conociendo ahora que es el proceso de `bag of words`, aplique este modelo de obtención de caracteristicas de la siguiente forma en un pipeline:\n",
    "\n",
    "- Utilice el tokenizador entregado.\n",
    "- Obtenga caracteristicas de los unigramas y bigramas del texto (tal como el ejemplo).\n",
    "\n",
    "```python\n",
    "bog = CountVectorizer(tokenizer= StemmerTokenizer(),`\n",
    "                      ngram_range=(1,2) # Este punto es opcional y es para generar bigramas\n",
    "                      )\n",
    "```"
   ]
  },
  {
   "cell_type": "markdown",
   "metadata": {
    "cell_id": "00025-145bb273-d73c-4ad1-8b84-46327add3a2e",
    "deepnote_cell_height": 332.90625,
    "deepnote_cell_type": "markdown",
    "tags": []
   },
   "source": [
    "Finalmente, aplique `MinMaxScaler()` sobre `atributos_de_interes` y concatene el valor obtenido con el matriz de caracteristicas obtenidas con bag of words.\n",
    "\n",
    "```python\n",
    "atributos_de_interes = ['intelligence_score', 'strength_score', 'speed_score', 'durability_score', 'power_score', 'combat_score']\n",
    "```\n",
    "\n",
    "No es necesario que obtenga un dataframe en concreto con las características solicitadas. Se le recomienda generar un `ColumnTransformer()` para aplicar las transformaciones solicitadas en un pipeline.\n",
    "\n",
    "**To-Do:**\n",
    "- [ ] Obtener a traves de Bag of Words (`CountVectorizer`) caracteristicas del resumen de historia de cada personaje.\n",
    "- [ ] Aplicar `MinMaxScaler` sobre los atributos de interes."
   ]
  },
  {
   "cell_type": "markdown",
   "metadata": {
    "cell_id": "00026-b13521a0-adf9-4c19-893e-ba6ed644ca12",
    "deepnote_cell_height": 52.390625,
    "deepnote_cell_type": "markdown",
    "tags": []
   },
   "source": [
    "**Respuesta:**"
   ]
  },
  {
   "cell_type": "code",
   "execution_count": 54,
   "metadata": {},
   "outputs": [],
   "source": [
    "df_comics = df_comics.drop(df_comics[df_comics[\"alignment\"]==\"Neutral\"].index)"
   ]
  },
  {
   "cell_type": "code",
   "execution_count": 55,
   "metadata": {
    "cell_id": "00026-898e0ee0-748d-4dac-bfc5-d72f4fe21827",
    "deepnote_cell_height": 66,
    "deepnote_cell_type": "code",
    "id": "ay080DunHcOS"
   },
   "outputs": [],
   "source": [
    "df_comics['alignment']=df_comics['alignment'].replace(\"Bad\", 1)\n",
    "df_comics['alignment']=df_comics['alignment'].replace(\"Good\", 0)"
   ]
  },
  {
   "cell_type": "code",
   "execution_count": 56,
   "metadata": {},
   "outputs": [],
   "source": [
    "bog = CountVectorizer(tokenizer= StemmerTokenizer(),\n",
    "                      ngram_range=(1,2))"
   ]
  },
  {
   "cell_type": "code",
   "execution_count": 57,
   "metadata": {},
   "outputs": [],
   "source": [
    "atributos_de_interes = ['intelligence_score', 'strength_score', 'speed_score', 'durability_score', 'power_score', 'combat_score']"
   ]
  },
  {
   "cell_type": "code",
   "execution_count": 58,
   "metadata": {},
   "outputs": [],
   "source": [
    "processing = ColumnTransformer(\n",
    "   transformers=[\n",
    "       ('bag_of_words',bog ,('history_text')),\n",
    "       ('minmax_scaler',MinMaxScaler(), atributos_de_interes),\n",
    "   ])"
   ]
  },
  {
   "cell_type": "markdown",
   "metadata": {
    "cell_id": "00029-0baf6cdb-9550-4717-87db-9f9900d5b276",
    "deepnote_cell_height": 317.5,
    "deepnote_cell_type": "markdown",
    "id": "stHncQ-A-j4I",
    "owner_user_id": "d50c3174-babb-4861-9c71-7e3af66458b8"
   },
   "source": [
    "## 1.2 Diseño de Baseline y  Primer Entrenamiento  [1 Puntos]\n",
    "\n",
    "\n",
    "<p align=\"center\">\n",
    "  <img src=\"https://pa1.narvii.com/6374/9eaec1b7bf9157334151452a669516f9a78b954c_hq.gif\" width=\"300\">\n",
    "</p>\n"
   ]
  },
  {
   "cell_type": "markdown",
   "metadata": {
    "cell_id": "00030-1452da19-1559-4b8b-8b73-a134157c0656",
    "deepnote_cell_height": 455.859375,
    "deepnote_cell_type": "markdown",
    "id": "NeMiptpQ_EWb"
   },
   "source": [
    "\n",
    "Genere un Pipeline con las caracteristicas solicitadas en la sección 1.1, un selector de mejores features `SelectPercentile` con métrica `f_classif` y percentile=90 y un clasificador `MultinomialNB()` por defecto.\n",
    "\n",
    "Luego, separe el conjunto de datos en un conjunto de entrenamiento y prueba, donde las etiquetas estará dado por el atributo `alignment`. \n",
    "\n",
    "Entrene el modelo y reporte el desempeño con un `classification_report`. ¿ Nos recomendaría predecir la alineación de BatCow con este clasificador?.\n",
    "\n",
    "Finalmente, compare el modelo entrenado con un modelo Dummy estratificado y responda: ¿El clasificador entrenado es mejor que el dummy que entrega respuestas al azar?\n",
    "\n",
    "**To-do:**\n",
    "- [ ] Realizar un pipeline con las caracteristicas solicitadas en 1.1, ejecutar holdout y aplicar un clasificador `MultinomialNB()`.\n",
    "- [ ] Entrenar el pipeline, calcular el `classification_report` asociado y comentar los resultados.\n",
    "- [ ] Entrenar un `DummyClassifier` con estrategia `statified`, calcular el `classification_report` asociado y comentar que implican los scores obtenidos en comparación con los resultados del baseline."
   ]
  },
  {
   "cell_type": "markdown",
   "metadata": {
    "cell_id": "00029-34f1be30-f2df-45ac-aa14-8e05dc678be9",
    "deepnote_cell_height": 52.390625,
    "deepnote_cell_type": "markdown",
    "tags": []
   },
   "source": [
    "**Respuesta:**"
   ]
  },
  {
   "cell_type": "markdown",
   "metadata": {},
   "source": [
    "### (1) Realizar un pipeline con las caracteristicas solicitadas en 1.1, ejecutar holdout y aplicar un clasificador MultinomialNB()"
   ]
  },
  {
   "cell_type": "code",
   "execution_count": 62,
   "metadata": {
    "cell_id": "00031-92f07569-b6ee-48af-be9e-70cd05cb9e5e",
    "deepnote_cell_height": 66,
    "deepnote_cell_type": "code",
    "id": "_hHpPDooPafy"
   },
   "outputs": [],
   "source": [
    "pipe1= Pipeline([('preprocessing',processing),('percentil',SelectPercentile(f_classif,percentile=90)),('clf',MultinomialNB())])"
   ]
  },
  {
   "cell_type": "markdown",
   "metadata": {},
   "source": [
    "### (2) Entrenar el pipeline, calcular el classification_report asociado y comentar los resultado"
   ]
  },
  {
   "cell_type": "code",
   "execution_count": 63,
   "metadata": {},
   "outputs": [],
   "source": [
    "#Se definene los datos en X e y (alignment->objetivo)\n",
    "X = df_comics.drop(columns=[\"alignment\"])\n",
    "y = df_comics.loc[:, \"alignment\"]\n",
    "#Se divide en train y test\n",
    "X_train, X_test, y_train, y_test = train_test_split(X, y, test_size=0.25, shuffle=True)"
   ]
  },
  {
   "cell_type": "markdown",
   "metadata": {},
   "source": [
    "### (3) Entrenar un DummyClassifier con estrategia statified, calcular el classification_report asociado y comentar que implican los scores obtenidos en comparación con los resultados del baseline"
   ]
  },
  {
   "cell_type": "code",
   "execution_count": 64,
   "metadata": {},
   "outputs": [
    {
     "name": "stdout",
     "output_type": "stream",
     "text": [
      "              precision    recall  f1-score   support\n",
      "\n",
      "           0       0.60      0.97      0.74       176\n",
      "           1       0.38      0.03      0.05       117\n",
      "\n",
      "    accuracy                           0.59       293\n",
      "   macro avg       0.49      0.50      0.39       293\n",
      "weighted avg       0.51      0.59      0.46       293\n",
      "\n"
     ]
    }
   ],
   "source": [
    "y_train_p=pipe1.fit(X_train, y_train)\n",
    "y_predict_p = pipe1.predict(X_test)\n",
    "\n",
    "print(classification_report(y_test, y_predict_p))"
   ]
  },
  {
   "cell_type": "markdown",
   "metadata": {
    "cell_id": "806813f6a2114d46a6165a97c8c483a0",
    "deepnote_cell_height": 70.796875,
    "deepnote_cell_type": "markdown",
    "tags": []
   },
   "source": [
    "```\n",
    "Al aplicar el clasificador con estrategia statified se obtuvieron resultados regulares, con un accuracy bastante bajo de 0.59, los resultados de precisión y recall igualmente son regulares, se pueden mejorar\n",
    "```"
   ]
  },
  {
   "cell_type": "markdown",
   "metadata": {
    "cell_id": "00035-35040b90-b6b9-4e43-8eff-15b7fa897575",
    "deepnote_cell_height": 400,
    "deepnote_cell_type": "markdown",
    "id": "pfm7I2B7_rfB"
   },
   "source": [
    "## 1.3 Busqueda del Mejor Modelo con Grid Search [4 Puntos]\n",
    "\n",
    "<p align=\"center\">\n",
    "  <img src=\"https://media1.tenor.com/images/70fdfeea52a8e2e4505498c230a0d2f9/tenor.gif?itemid=5134219\" width=\"250\">\n",
    "</p>"
   ]
  },
  {
   "cell_type": "markdown",
   "metadata": {
    "cell_id": "00036-c58166cc-71f7-4fa3-94c8-c67d1145ccf1",
    "deepnote_cell_height": 859.5,
    "deepnote_cell_type": "markdown",
    "id": "14siiavzK67p"
   },
   "source": [
    "No conformes con el rendimiento obtenido en la sección 1.2, el cuerpo docente les pide que realicen un **`HalvingGridSearchCV`** con diferentes parámetros para mejorar el rendimiento de la clasificación. Para esto, se le solicita que defina:\n",
    "\n",
    "- Tres clasificadores distintos en donde varie sus parámetros. Considere usar modelos clásicos como también los basados en ensamblaje.\n",
    "- Modificar `n-gram` range del `CountVectorizer` probando `(1,1), (1,2) y (1,3)`. Examinar también los otros parámetros de CountVectorizer como por ejemplo `max_df`, `min_df`, etc... ([Documentación aquí](https://scikit-learn.org/stable/modules/generated/sklearn.feature_extraction.text.CountVectorizer.html))\n",
    "- Seleccionar las columnas que contribuyen con la mayor información para la clasificación con `SelectPercentile` en los percentiles `[20, 40, 60, 80]` (puede usar la métrica que usted quiera).\n",
    "- Reporte la mejor combinación encontrada y justifique por qué cree que es la mejor según el clasificador usado, la cantidad de columnas seleccionadas y los parámetros de CountVectorizer seleccionados por GridSearch.\n",
    "\n",
    "A continuación, un ejemplo de parametros para GridSearch para una búsqueda de 3 clasificadores distintos:\n",
    "\n",
    "```python\n",
    "params = [\n",
    "       # clasificador 1 + hiperparámetros\n",
    "       {'clf': classificator1(),\n",
    "        'clf__penalty': ['ovr'],\n",
    "       # clasificador 1 + hiperparámetros    \n",
    "       {'clf': classificator2(),\n",
    "        'clf__n_estimators': [200]},\n",
    "       # clasificador 1 + hiperparámetros\n",
    "       {'clf': classificator3(),\n",
    "        ...\n",
    "       }\n",
    "       ]\n",
    "```\n",
    "\n",
    "**Nota 1**: Puede ver los parámetros modificables aplicando el método get_params() sobre su pipeline. Ver la clase de GridSearch para mayor información sobre la sintáxis de las grillas.\n",
    "\n",
    "**Nota 2**: Recuerde inicializar los clasificadores con un random state definido.\n",
    "\n",
    "**Nota 3**: Puede usar en `HalvingGridSearchCV` el parámetro `verbose=10` para ver que GridSearch le indique el estado de su ejecución.\n",
    "\n",
    "**Nota 3:** El GridSearch puede tomar tiempos de búsqueda exorbitantes, por lo que se le recomienda no agrandar mucho el espacio de búsqueda, dejar corriendo el código y tomarse un tecito."
   ]
  },
  {
   "cell_type": "markdown",
   "metadata": {
    "cell_id": "00032-3fea06e0-a390-4ae0-8036-f5fedb6d6baf",
    "deepnote_cell_height": 52.390625,
    "deepnote_cell_type": "markdown",
    "tags": []
   },
   "source": [
    "**Respuesta:**"
   ]
  },
  {
   "cell_type": "markdown",
   "metadata": {},
   "source": [
    "### Definición, entrenamiento y resultados del pipeline2"
   ]
  },
  {
   "cell_type": "code",
   "execution_count": 65,
   "metadata": {
    "cell_id": "00037-8b06a200-cb7a-485a-b11b-31a3d0ee57f3",
    "deepnote_cell_height": 66,
    "deepnote_cell_type": "code",
    "id": "oNvHOHELUoIv"
   },
   "outputs": [],
   "source": [
    "pipe2 = Pipeline(steps=[('preprocessing',processing),('percentil',SelectPercentile(f_classif,percentile=90)),(\"clf_lr\", LogisticRegression())])"
   ]
  },
  {
   "cell_type": "code",
   "execution_count": 66,
   "metadata": {},
   "outputs": [
    {
     "name": "stderr",
     "output_type": "stream",
     "text": [
      "C:\\Users\\geria\\anaconda3\\lib\\site-packages\\sklearn\\linear_model\\_logistic.py:814: ConvergenceWarning: lbfgs failed to converge (status=1):\n",
      "STOP: TOTAL NO. of ITERATIONS REACHED LIMIT.\n",
      "\n",
      "Increase the number of iterations (max_iter) or scale the data as shown in:\n",
      "    https://scikit-learn.org/stable/modules/preprocessing.html\n",
      "Please also refer to the documentation for alternative solver options:\n",
      "    https://scikit-learn.org/stable/modules/linear_model.html#logistic-regression\n",
      "  n_iter_i = _check_optimize_result(\n"
     ]
    }
   ],
   "source": [
    "y_train_p2=pipe2.fit(X_train, y_train)\n",
    "y_predict_p2 = pipe2.predict(X_test)"
   ]
  },
  {
   "cell_type": "code",
   "execution_count": 67,
   "metadata": {},
   "outputs": [
    {
     "name": "stdout",
     "output_type": "stream",
     "text": [
      "              precision    recall  f1-score   support\n",
      "\n",
      "           0       0.75      0.84      0.79       176\n",
      "           1       0.70      0.57      0.63       117\n",
      "\n",
      "    accuracy                           0.73       293\n",
      "   macro avg       0.72      0.70      0.71       293\n",
      "weighted avg       0.73      0.73      0.72       293\n",
      "\n"
     ]
    }
   ],
   "source": [
    "print(classification_report(y_test, y_predict_p2))"
   ]
  },
  {
   "cell_type": "markdown",
   "metadata": {},
   "source": [
    "### Definición, entrenamiento y resultados del pipeline3"
   ]
  },
  {
   "cell_type": "code",
   "execution_count": 69,
   "metadata": {},
   "outputs": [],
   "source": [
    "pipe3 = Pipeline(steps=[('preprocessing',processing),('percentil',SelectPercentile(f_classif,percentile=90)),(\"clf_rf\", RandomForestClassifier())])"
   ]
  },
  {
   "cell_type": "code",
   "execution_count": 70,
   "metadata": {},
   "outputs": [],
   "source": [
    "y_train_p3=pipe3.fit(X_train, y_train)\n",
    "y_predict_p3 = pipe3.predict(X_test)"
   ]
  },
  {
   "cell_type": "code",
   "execution_count": 71,
   "metadata": {},
   "outputs": [
    {
     "name": "stdout",
     "output_type": "stream",
     "text": [
      "              precision    recall  f1-score   support\n",
      "\n",
      "           0       0.61      1.00      0.76       176\n",
      "           1       1.00      0.04      0.08       117\n",
      "\n",
      "    accuracy                           0.62       293\n",
      "   macro avg       0.81      0.52      0.42       293\n",
      "weighted avg       0.77      0.62      0.49       293\n",
      "\n"
     ]
    }
   ],
   "source": [
    "print(classification_report(y_test, y_predict_p3))"
   ]
  },
  {
   "cell_type": "code",
   "execution_count": 82,
   "metadata": {},
   "outputs": [
    {
     "data": {
      "text/plain": [
       "{'aggressive_elimination': False,\n",
       " 'cv': 5,\n",
       " 'error_score': nan,\n",
       " 'estimator__memory': None,\n",
       " 'estimator__steps': [('preprocessing',\n",
       "   ColumnTransformer(transformers=[('bag_of_words',\n",
       "                                    CountVectorizer(ngram_range=(1, 2),\n",
       "                                                    tokenizer=<__main__.StemmerTokenizer object at 0x00000250AD927220>),\n",
       "                                    'history_text'),\n",
       "                                   ('minmax_scaler', MinMaxScaler(),\n",
       "                                    ['intelligence_score', 'strength_score',\n",
       "                                     'speed_score', 'durability_score',\n",
       "                                     'power_score', 'combat_score'])])),\n",
       "  ('percentil', SelectPercentile(percentile=90)),\n",
       "  ('clf_lr', LogisticRegression())],\n",
       " 'estimator__verbose': False,\n",
       " 'estimator__preprocessing': ColumnTransformer(transformers=[('bag_of_words',\n",
       "                                  CountVectorizer(ngram_range=(1, 2),\n",
       "                                                  tokenizer=<__main__.StemmerTokenizer object at 0x00000250AD927220>),\n",
       "                                  'history_text'),\n",
       "                                 ('minmax_scaler', MinMaxScaler(),\n",
       "                                  ['intelligence_score', 'strength_score',\n",
       "                                   'speed_score', 'durability_score',\n",
       "                                   'power_score', 'combat_score'])]),\n",
       " 'estimator__percentil': SelectPercentile(percentile=90),\n",
       " 'estimator__clf_lr': LogisticRegression(),\n",
       " 'estimator__preprocessing__n_jobs': None,\n",
       " 'estimator__preprocessing__remainder': 'drop',\n",
       " 'estimator__preprocessing__sparse_threshold': 0.3,\n",
       " 'estimator__preprocessing__transformer_weights': None,\n",
       " 'estimator__preprocessing__transformers': [('bag_of_words',\n",
       "   CountVectorizer(ngram_range=(1, 2),\n",
       "                   tokenizer=<__main__.StemmerTokenizer object at 0x00000250AD927220>),\n",
       "   'history_text'),\n",
       "  ('minmax_scaler',\n",
       "   MinMaxScaler(),\n",
       "   ['intelligence_score',\n",
       "    'strength_score',\n",
       "    'speed_score',\n",
       "    'durability_score',\n",
       "    'power_score',\n",
       "    'combat_score'])],\n",
       " 'estimator__preprocessing__verbose': False,\n",
       " 'estimator__preprocessing__verbose_feature_names_out': True,\n",
       " 'estimator__preprocessing__bag_of_words': CountVectorizer(ngram_range=(1, 2),\n",
       "                 tokenizer=<__main__.StemmerTokenizer object at 0x00000250AD927220>),\n",
       " 'estimator__preprocessing__minmax_scaler': MinMaxScaler(),\n",
       " 'estimator__preprocessing__bag_of_words__analyzer': 'word',\n",
       " 'estimator__preprocessing__bag_of_words__binary': False,\n",
       " 'estimator__preprocessing__bag_of_words__decode_error': 'strict',\n",
       " 'estimator__preprocessing__bag_of_words__dtype': numpy.int64,\n",
       " 'estimator__preprocessing__bag_of_words__encoding': 'utf-8',\n",
       " 'estimator__preprocessing__bag_of_words__input': 'content',\n",
       " 'estimator__preprocessing__bag_of_words__lowercase': True,\n",
       " 'estimator__preprocessing__bag_of_words__max_df': 1.0,\n",
       " 'estimator__preprocessing__bag_of_words__max_features': None,\n",
       " 'estimator__preprocessing__bag_of_words__min_df': 1,\n",
       " 'estimator__preprocessing__bag_of_words__ngram_range': (1, 2),\n",
       " 'estimator__preprocessing__bag_of_words__preprocessor': None,\n",
       " 'estimator__preprocessing__bag_of_words__stop_words': None,\n",
       " 'estimator__preprocessing__bag_of_words__strip_accents': None,\n",
       " 'estimator__preprocessing__bag_of_words__token_pattern': '(?u)\\\\b\\\\w\\\\w+\\\\b',\n",
       " 'estimator__preprocessing__bag_of_words__tokenizer': <__main__.StemmerTokenizer at 0x250ad927220>,\n",
       " 'estimator__preprocessing__bag_of_words__vocabulary': None,\n",
       " 'estimator__preprocessing__minmax_scaler__clip': False,\n",
       " 'estimator__preprocessing__minmax_scaler__copy': True,\n",
       " 'estimator__preprocessing__minmax_scaler__feature_range': (0, 1),\n",
       " 'estimator__percentil__percentile': 90,\n",
       " 'estimator__percentil__score_func': <function sklearn.feature_selection._univariate_selection.f_classif(X, y)>,\n",
       " 'estimator__clf_lr__C': 1.0,\n",
       " 'estimator__clf_lr__class_weight': None,\n",
       " 'estimator__clf_lr__dual': False,\n",
       " 'estimator__clf_lr__fit_intercept': True,\n",
       " 'estimator__clf_lr__intercept_scaling': 1,\n",
       " 'estimator__clf_lr__l1_ratio': None,\n",
       " 'estimator__clf_lr__max_iter': 100,\n",
       " 'estimator__clf_lr__multi_class': 'auto',\n",
       " 'estimator__clf_lr__n_jobs': None,\n",
       " 'estimator__clf_lr__penalty': 'l2',\n",
       " 'estimator__clf_lr__random_state': None,\n",
       " 'estimator__clf_lr__solver': 'lbfgs',\n",
       " 'estimator__clf_lr__tol': 0.0001,\n",
       " 'estimator__clf_lr__verbose': 0,\n",
       " 'estimator__clf_lr__warm_start': False,\n",
       " 'estimator': Pipeline(steps=[('preprocessing',\n",
       "                  ColumnTransformer(transformers=[('bag_of_words',\n",
       "                                                   CountVectorizer(ngram_range=(1,\n",
       "                                                                                2),\n",
       "                                                                   tokenizer=<__main__.StemmerTokenizer object at 0x00000250AD927220>),\n",
       "                                                   'history_text'),\n",
       "                                                  ('minmax_scaler',\n",
       "                                                   MinMaxScaler(),\n",
       "                                                   ['intelligence_score',\n",
       "                                                    'strength_score',\n",
       "                                                    'speed_score',\n",
       "                                                    'durability_score',\n",
       "                                                    'power_score',\n",
       "                                                    'combat_score'])])),\n",
       "                 ('percentil', SelectPercentile(percentile=90)),\n",
       "                 ('clf_lr', LogisticRegression())]),\n",
       " 'factor': 3,\n",
       " 'max_resources': 'auto',\n",
       " 'min_resources': 'exhaust',\n",
       " 'n_jobs': None,\n",
       " 'param_grid': [{'ngram': [(1, 1), (1, 2), (1, 3)],\n",
       "   'percentile': [20, 40, 60, 80],\n",
       "   'score': [<function sklearn.feature_selection._univariate_selection.f_classif(X, y)>,\n",
       "    <function sklearn.feature_selection._mutual_info.mutual_info_classif(X, y, *, discrete_features='auto', n_neighbors=3, copy=True, random_state=None)>],\n",
       "   'clf_lr': [LogisticRegression(random_state=100)],\n",
       "   'clf_lr__penalty': ['ovr'],\n",
       "   'clf_lr__multi_class': ['liblinear']}],\n",
       " 'random_state': None,\n",
       " 'refit': True,\n",
       " 'resource': 'n_samples',\n",
       " 'return_train_score': True,\n",
       " 'scoring': None,\n",
       " 'verbose': 10}"
      ]
     },
     "execution_count": 82,
     "metadata": {},
     "output_type": "execute_result"
    }
   ],
   "source": [
    "from sklearn.feature_selection import SelectPercentile, f_classif, mutual_info_classif\n",
    "p_grid = [{\n",
    "    \"ngram\" : [(1,1), (1,2), (1,3)],\n",
    "    \"percentile\" : [20, 40, 60, 80],\n",
    "    \"score\" : [f_classif, mutual_info_classif],\n",
    "    \"clf_lr\" : [LogisticRegression(random_state=100)],\n",
    "    'clf_lr__penalty': ['ovr'],\n",
    "    'clf_lr__multi_class': ['liblinear']}]\n",
    "from sklearn.experimental import enable_halving_search_cv\n",
    "from sklearn.model_selection import HalvingGridSearchCV\n",
    "grid_param = HalvingGridSearchCV(pipe2, p_grid, verbose=10)\n",
    "grid_param.get_params()"
   ]
  },
  {
   "cell_type": "code",
   "execution_count": 84,
   "metadata": {},
   "outputs": [
    {
     "data": {
      "text/plain": [
       "{'aggressive_elimination': False,\n",
       " 'cv': 5,\n",
       " 'error_score': nan,\n",
       " 'estimator__memory': None,\n",
       " 'estimator__steps': [('preprocessing',\n",
       "   ColumnTransformer(transformers=[('bag_of_words',\n",
       "                                    CountVectorizer(ngram_range=(1, 2),\n",
       "                                                    tokenizer=<__main__.StemmerTokenizer object at 0x00000250AD927220>),\n",
       "                                    'history_text'),\n",
       "                                   ('minmax_scaler', MinMaxScaler(),\n",
       "                                    ['intelligence_score', 'strength_score',\n",
       "                                     'speed_score', 'durability_score',\n",
       "                                     'power_score', 'combat_score'])])),\n",
       "  ('percentil', SelectPercentile(percentile=90)),\n",
       "  ('clf_rf', RandomForestClassifier())],\n",
       " 'estimator__verbose': False,\n",
       " 'estimator__preprocessing': ColumnTransformer(transformers=[('bag_of_words',\n",
       "                                  CountVectorizer(ngram_range=(1, 2),\n",
       "                                                  tokenizer=<__main__.StemmerTokenizer object at 0x00000250AD927220>),\n",
       "                                  'history_text'),\n",
       "                                 ('minmax_scaler', MinMaxScaler(),\n",
       "                                  ['intelligence_score', 'strength_score',\n",
       "                                   'speed_score', 'durability_score',\n",
       "                                   'power_score', 'combat_score'])]),\n",
       " 'estimator__percentil': SelectPercentile(percentile=90),\n",
       " 'estimator__clf_rf': RandomForestClassifier(),\n",
       " 'estimator__preprocessing__n_jobs': None,\n",
       " 'estimator__preprocessing__remainder': 'drop',\n",
       " 'estimator__preprocessing__sparse_threshold': 0.3,\n",
       " 'estimator__preprocessing__transformer_weights': None,\n",
       " 'estimator__preprocessing__transformers': [('bag_of_words',\n",
       "   CountVectorizer(ngram_range=(1, 2),\n",
       "                   tokenizer=<__main__.StemmerTokenizer object at 0x00000250AD927220>),\n",
       "   'history_text'),\n",
       "  ('minmax_scaler',\n",
       "   MinMaxScaler(),\n",
       "   ['intelligence_score',\n",
       "    'strength_score',\n",
       "    'speed_score',\n",
       "    'durability_score',\n",
       "    'power_score',\n",
       "    'combat_score'])],\n",
       " 'estimator__preprocessing__verbose': False,\n",
       " 'estimator__preprocessing__verbose_feature_names_out': True,\n",
       " 'estimator__preprocessing__bag_of_words': CountVectorizer(ngram_range=(1, 2),\n",
       "                 tokenizer=<__main__.StemmerTokenizer object at 0x00000250AD927220>),\n",
       " 'estimator__preprocessing__minmax_scaler': MinMaxScaler(),\n",
       " 'estimator__preprocessing__bag_of_words__analyzer': 'word',\n",
       " 'estimator__preprocessing__bag_of_words__binary': False,\n",
       " 'estimator__preprocessing__bag_of_words__decode_error': 'strict',\n",
       " 'estimator__preprocessing__bag_of_words__dtype': numpy.int64,\n",
       " 'estimator__preprocessing__bag_of_words__encoding': 'utf-8',\n",
       " 'estimator__preprocessing__bag_of_words__input': 'content',\n",
       " 'estimator__preprocessing__bag_of_words__lowercase': True,\n",
       " 'estimator__preprocessing__bag_of_words__max_df': 1.0,\n",
       " 'estimator__preprocessing__bag_of_words__max_features': None,\n",
       " 'estimator__preprocessing__bag_of_words__min_df': 1,\n",
       " 'estimator__preprocessing__bag_of_words__ngram_range': (1, 2),\n",
       " 'estimator__preprocessing__bag_of_words__preprocessor': None,\n",
       " 'estimator__preprocessing__bag_of_words__stop_words': None,\n",
       " 'estimator__preprocessing__bag_of_words__strip_accents': None,\n",
       " 'estimator__preprocessing__bag_of_words__token_pattern': '(?u)\\\\b\\\\w\\\\w+\\\\b',\n",
       " 'estimator__preprocessing__bag_of_words__tokenizer': <__main__.StemmerTokenizer at 0x250ad927220>,\n",
       " 'estimator__preprocessing__bag_of_words__vocabulary': None,\n",
       " 'estimator__preprocessing__minmax_scaler__clip': False,\n",
       " 'estimator__preprocessing__minmax_scaler__copy': True,\n",
       " 'estimator__preprocessing__minmax_scaler__feature_range': (0, 1),\n",
       " 'estimator__percentil__percentile': 90,\n",
       " 'estimator__percentil__score_func': <function sklearn.feature_selection._univariate_selection.f_classif(X, y)>,\n",
       " 'estimator__clf_rf__bootstrap': True,\n",
       " 'estimator__clf_rf__ccp_alpha': 0.0,\n",
       " 'estimator__clf_rf__class_weight': None,\n",
       " 'estimator__clf_rf__criterion': 'gini',\n",
       " 'estimator__clf_rf__max_depth': None,\n",
       " 'estimator__clf_rf__max_features': 'auto',\n",
       " 'estimator__clf_rf__max_leaf_nodes': None,\n",
       " 'estimator__clf_rf__max_samples': None,\n",
       " 'estimator__clf_rf__min_impurity_decrease': 0.0,\n",
       " 'estimator__clf_rf__min_samples_leaf': 1,\n",
       " 'estimator__clf_rf__min_samples_split': 2,\n",
       " 'estimator__clf_rf__min_weight_fraction_leaf': 0.0,\n",
       " 'estimator__clf_rf__n_estimators': 100,\n",
       " 'estimator__clf_rf__n_jobs': None,\n",
       " 'estimator__clf_rf__oob_score': False,\n",
       " 'estimator__clf_rf__random_state': None,\n",
       " 'estimator__clf_rf__verbose': 0,\n",
       " 'estimator__clf_rf__warm_start': False,\n",
       " 'estimator': Pipeline(steps=[('preprocessing',\n",
       "                  ColumnTransformer(transformers=[('bag_of_words',\n",
       "                                                   CountVectorizer(ngram_range=(1,\n",
       "                                                                                2),\n",
       "                                                                   tokenizer=<__main__.StemmerTokenizer object at 0x00000250AD927220>),\n",
       "                                                   'history_text'),\n",
       "                                                  ('minmax_scaler',\n",
       "                                                   MinMaxScaler(),\n",
       "                                                   ['intelligence_score',\n",
       "                                                    'strength_score',\n",
       "                                                    'speed_score',\n",
       "                                                    'durability_score',\n",
       "                                                    'power_score',\n",
       "                                                    'combat_score'])])),\n",
       "                 ('percentil', SelectPercentile(percentile=90)),\n",
       "                 ('clf_rf', RandomForestClassifier())]),\n",
       " 'factor': 3,\n",
       " 'max_resources': 'auto',\n",
       " 'min_resources': 'exhaust',\n",
       " 'n_jobs': None,\n",
       " 'param_grid': [{'ngram': [(1, 1), (1, 2), (1, 3)],\n",
       "   'percentile': [20, 40, 60, 80],\n",
       "   'score': [<function sklearn.feature_selection._univariate_selection.f_classif(X, y)>,\n",
       "    <function sklearn.feature_selection._mutual_info.mutual_info_classif(X, y, *, discrete_features='auto', n_neighbors=3, copy=True, random_state=None)>],\n",
       "   'clf_rf': [RandomForestClassifier(random_state=100)],\n",
       "   'clf__n_estimators': [200, 400, 600, 800, 1000, 2000]}],\n",
       " 'random_state': None,\n",
       " 'refit': True,\n",
       " 'resource': 'n_samples',\n",
       " 'return_train_score': True,\n",
       " 'scoring': None,\n",
       " 'verbose': 10}"
      ]
     },
     "execution_count": 84,
     "metadata": {},
     "output_type": "execute_result"
    }
   ],
   "source": [
    "p_grid2 = [{\n",
    "    \"ngram\" : [(1,1), (1,2), (1,3)],\n",
    "    \"percentile\" : [20, 40, 60, 80],\n",
    "    \"score\" : [f_classif, mutual_info_classif],\n",
    "    \"clf_rf\" : [RandomForestClassifier(random_state=100)],\n",
    "    'clf__n_estimators': [200, 400, 600, 800, 1000, 2000]}]\n",
    "grid_param2 = HalvingGridSearchCV(pipe3, p_grid2, verbose=10)\n",
    "grid_param2.get_params()"
   ]
  },
  {
   "cell_type": "markdown",
   "metadata": {
    "cell_id": "00042-1dc5444c-59e9-4d79-93fb-3c545fe3b086",
    "deepnote_cell_height": 600.15625,
    "deepnote_cell_type": "markdown",
    "id": "OmQUw2aZ_6z2"
   },
   "source": [
    "## 1.4 Predicción del datos sin etiquetado  [0.5 puntos]\n",
    "\n",
    "<p align=\"center\">\n",
    "  <img src=\"https://pbs.twimg.com/media/DolotxUUYAAbg7f.jpg\" width=\"350\">\n",
    "</p>\n"
   ]
  },
  {
   "cell_type": "markdown",
   "metadata": {
    "cell_id": "00043-bdf593d2-92b5-4d74-869a-8c9541a6e572",
    "deepnote_cell_height": 111.171875,
    "deepnote_cell_type": "markdown",
    "id": "Cj0ERBgTBFWN"
   },
   "source": [
    "LLego el momento de predecir \n",
    "`Vergil`, `Gorilla Girl` y `Batcow`\n",
    "\n",
    "\n",
    "**Nota:** Recuerde que pueden existir campos vacios en `history_text`, por lo que se les recomienda borrar los nan."
   ]
  },
  {
   "cell_type": "markdown",
   "metadata": {
    "cell_id": "00035-1e9b40e0-20dc-4ed1-81ca-b7f8f9679771",
    "deepnote_cell_height": 52.390625,
    "deepnote_cell_type": "markdown",
    "tags": []
   },
   "source": [
    "**Respuesta:**"
   ]
  },
  {
   "cell_type": "code",
   "execution_count": 87,
   "metadata": {},
   "outputs": [],
   "source": [
    "df_comics_no_label = df_comics_no_label.drop(df_comics_no_label[pd.isna(df_comics_no_label[\"history_text\"])== True].index)"
   ]
  },
  {
   "cell_type": "code",
   "execution_count": 88,
   "metadata": {},
   "outputs": [],
   "source": [
    "pred = pipe1.predict(df_comics_no_label)"
   ]
  },
  {
   "cell_type": "code",
   "execution_count": 89,
   "metadata": {},
   "outputs": [],
   "source": [
    "matriz = np.array(df_comics_no_label[\"name\"])"
   ]
  },
  {
   "cell_type": "code",
   "execution_count": 93,
   "metadata": {},
   "outputs": [
    {
     "data": {
      "text/html": [
       "<div>\n",
       "<style scoped>\n",
       "    .dataframe tbody tr th:only-of-type {\n",
       "        vertical-align: middle;\n",
       "    }\n",
       "\n",
       "    .dataframe tbody tr th {\n",
       "        vertical-align: top;\n",
       "    }\n",
       "\n",
       "    .dataframe thead th {\n",
       "        text-align: right;\n",
       "    }\n",
       "</style>\n",
       "<table border=\"1\" class=\"dataframe\">\n",
       "  <thead>\n",
       "    <tr style=\"text-align: right;\">\n",
       "      <th></th>\n",
       "      <th>Nombre</th>\n",
       "      <th>Villano</th>\n",
       "    </tr>\n",
       "  </thead>\n",
       "  <tbody>\n",
       "    <tr>\n",
       "      <th>44</th>\n",
       "      <td>Jestro</td>\n",
       "      <td>1</td>\n",
       "    </tr>\n",
       "    <tr>\n",
       "      <th>61</th>\n",
       "      <td>Scorpion (injustice)</td>\n",
       "      <td>1</td>\n",
       "    </tr>\n",
       "    <tr>\n",
       "      <th>67</th>\n",
       "      <td>The Rhino (SONY)</td>\n",
       "      <td>1</td>\n",
       "    </tr>\n",
       "  </tbody>\n",
       "</table>\n",
       "</div>"
      ],
      "text/plain": [
       "                  Nombre  Villano\n",
       "44                Jestro        1\n",
       "61  Scorpion (injustice)        1\n",
       "67      The Rhino (SONY)        1"
      ]
     },
     "execution_count": 93,
     "metadata": {},
     "output_type": "execute_result"
    }
   ],
   "source": [
    "villanos = pd.DataFrame({\"Nombre\": matriz, \"Villano\": pred})\n",
    "df2 = villanos.loc[villanos['Nombre'] == \"Batcow\"]\n",
    "df3 = villanos.loc[villanos[\"Nombre\"] == \"Vergil\"]\n",
    "df4 = villanos.loc[villanos[\"Nombre\"] == \"Gorilla Girl\"]\n",
    "df_villanos = villanos.loc[villanos[\"Villano\"] == 1]\n",
    "df_villanos"
   ]
  },
  {
   "cell_type": "code",
   "execution_count": 94,
   "metadata": {},
   "outputs": [],
   "source": [
    "pred2 = pipe2.predict(df_comics_no_label)"
   ]
  },
  {
   "cell_type": "code",
   "execution_count": 98,
   "metadata": {},
   "outputs": [
    {
     "data": {
      "text/html": [
       "<div>\n",
       "<style scoped>\n",
       "    .dataframe tbody tr th:only-of-type {\n",
       "        vertical-align: middle;\n",
       "    }\n",
       "\n",
       "    .dataframe tbody tr th {\n",
       "        vertical-align: top;\n",
       "    }\n",
       "\n",
       "    .dataframe thead th {\n",
       "        text-align: right;\n",
       "    }\n",
       "</style>\n",
       "<table border=\"1\" class=\"dataframe\">\n",
       "  <thead>\n",
       "    <tr style=\"text-align: right;\">\n",
       "      <th></th>\n",
       "      <th>Nombre</th>\n",
       "      <th>Villano</th>\n",
       "    </tr>\n",
       "  </thead>\n",
       "  <tbody>\n",
       "    <tr>\n",
       "      <th>0</th>\n",
       "      <td>514A (Gotham)</td>\n",
       "      <td>1</td>\n",
       "    </tr>\n",
       "    <tr>\n",
       "      <th>1</th>\n",
       "      <td>A'dal</td>\n",
       "      <td>1</td>\n",
       "    </tr>\n",
       "    <tr>\n",
       "      <th>5</th>\n",
       "      <td>Ancalagon</td>\n",
       "      <td>1</td>\n",
       "    </tr>\n",
       "    <tr>\n",
       "      <th>9</th>\n",
       "      <td>Archangel (FOX)</td>\n",
       "      <td>1</td>\n",
       "    </tr>\n",
       "    <tr>\n",
       "      <th>10</th>\n",
       "      <td>Arizona Annie</td>\n",
       "      <td>1</td>\n",
       "    </tr>\n",
       "    <tr>\n",
       "      <th>14</th>\n",
       "      <td>Batcow</td>\n",
       "      <td>1</td>\n",
       "    </tr>\n",
       "    <tr>\n",
       "      <th>17</th>\n",
       "      <td>Black Hand</td>\n",
       "      <td>1</td>\n",
       "    </tr>\n",
       "    <tr>\n",
       "      <th>18</th>\n",
       "      <td>Black Panther (1,000,000 B.C.)</td>\n",
       "      <td>1</td>\n",
       "    </tr>\n",
       "    <tr>\n",
       "      <th>19</th>\n",
       "      <td>Blackwulf</td>\n",
       "      <td>1</td>\n",
       "    </tr>\n",
       "    <tr>\n",
       "      <th>23</th>\n",
       "      <td>NaN</td>\n",
       "      <td>1</td>\n",
       "    </tr>\n",
       "    <tr>\n",
       "      <th>24</th>\n",
       "      <td>Chosen Undead</td>\n",
       "      <td>1</td>\n",
       "    </tr>\n",
       "    <tr>\n",
       "      <th>27</th>\n",
       "      <td>Dark Elf Soldier</td>\n",
       "      <td>1</td>\n",
       "    </tr>\n",
       "    <tr>\n",
       "      <th>29</th>\n",
       "      <td>Destroyer (MCU)</td>\n",
       "      <td>1</td>\n",
       "    </tr>\n",
       "    <tr>\n",
       "      <th>43</th>\n",
       "      <td>J. Jonah Jameson</td>\n",
       "      <td>1</td>\n",
       "    </tr>\n",
       "    <tr>\n",
       "      <th>44</th>\n",
       "      <td>Jestro</td>\n",
       "      <td>1</td>\n",
       "    </tr>\n",
       "    <tr>\n",
       "      <th>45</th>\n",
       "      <td>Joker (Gotham)</td>\n",
       "      <td>1</td>\n",
       "    </tr>\n",
       "    <tr>\n",
       "      <th>46</th>\n",
       "      <td>Karnak</td>\n",
       "      <td>1</td>\n",
       "    </tr>\n",
       "    <tr>\n",
       "      <th>50</th>\n",
       "      <td>Lord Of Cinder</td>\n",
       "      <td>1</td>\n",
       "    </tr>\n",
       "    <tr>\n",
       "      <th>60</th>\n",
       "      <td>Ronan The Accuser (MCU)</td>\n",
       "      <td>1</td>\n",
       "    </tr>\n",
       "    <tr>\n",
       "      <th>67</th>\n",
       "      <td>The Rhino (SONY)</td>\n",
       "      <td>1</td>\n",
       "    </tr>\n",
       "    <tr>\n",
       "      <th>72</th>\n",
       "      <td>Wendigo</td>\n",
       "      <td>1</td>\n",
       "    </tr>\n",
       "    <tr>\n",
       "      <th>74</th>\n",
       "      <td>Yondu (MCU)</td>\n",
       "      <td>1</td>\n",
       "    </tr>\n",
       "    <tr>\n",
       "      <th>75</th>\n",
       "      <td>Batcow</td>\n",
       "      <td>1</td>\n",
       "    </tr>\n",
       "  </tbody>\n",
       "</table>\n",
       "</div>"
      ],
      "text/plain": [
       "                            Nombre  Villano\n",
       "0                    514A (Gotham)        1\n",
       "1                            A'dal        1\n",
       "5                        Ancalagon        1\n",
       "9                  Archangel (FOX)        1\n",
       "10                   Arizona Annie        1\n",
       "14                          Batcow        1\n",
       "17                      Black Hand        1\n",
       "18  Black Panther (1,000,000 B.C.)        1\n",
       "19                       Blackwulf        1\n",
       "23                             NaN        1\n",
       "24                   Chosen Undead        1\n",
       "27                Dark Elf Soldier        1\n",
       "29                 Destroyer (MCU)        1\n",
       "43                J. Jonah Jameson        1\n",
       "44                          Jestro        1\n",
       "45                  Joker (Gotham)        1\n",
       "46                          Karnak        1\n",
       "50                  Lord Of Cinder        1\n",
       "60         Ronan The Accuser (MCU)        1\n",
       "67                The Rhino (SONY)        1\n",
       "72                         Wendigo        1\n",
       "74                     Yondu (MCU)        1\n",
       "75                          Batcow        1"
      ]
     },
     "execution_count": 98,
     "metadata": {},
     "output_type": "execute_result"
    }
   ],
   "source": [
    "villanos2 = pd.DataFrame({\"Nombre\": matriz, \"Villano\": pred2})\n",
    "dfv2 = villanos2.loc[villanos2['Nombre'] == \"Batcow\"]\n",
    "df2v2 = villanos2.loc[villanos2[\"Nombre\"] == \"Vergil\"]\n",
    "df3v2 = villanos2.loc[villanos2[\"Nombre\"] == \"Gorilla Girl\"]\n",
    "df_villanos2 = villanos2.loc[villanos2[\"Villano\"] == 1]\n",
    "df_villanos2"
   ]
  },
  {
   "cell_type": "code",
   "execution_count": 99,
   "metadata": {},
   "outputs": [],
   "source": [
    "pred3 = pipe3.predict(df_comics_no_label)"
   ]
  },
  {
   "cell_type": "code",
   "execution_count": 100,
   "metadata": {},
   "outputs": [
    {
     "data": {
      "text/html": [
       "<div>\n",
       "<style scoped>\n",
       "    .dataframe tbody tr th:only-of-type {\n",
       "        vertical-align: middle;\n",
       "    }\n",
       "\n",
       "    .dataframe tbody tr th {\n",
       "        vertical-align: top;\n",
       "    }\n",
       "\n",
       "    .dataframe thead th {\n",
       "        text-align: right;\n",
       "    }\n",
       "</style>\n",
       "<table border=\"1\" class=\"dataframe\">\n",
       "  <thead>\n",
       "    <tr style=\"text-align: right;\">\n",
       "      <th></th>\n",
       "      <th>Nombre</th>\n",
       "      <th>Villano</th>\n",
       "    </tr>\n",
       "  </thead>\n",
       "  <tbody>\n",
       "  </tbody>\n",
       "</table>\n",
       "</div>"
      ],
      "text/plain": [
       "Empty DataFrame\n",
       "Columns: [Nombre, Villano]\n",
       "Index: []"
      ]
     },
     "execution_count": 100,
     "metadata": {},
     "output_type": "execute_result"
    }
   ],
   "source": [
    "villanos3 = pd.DataFrame({\"Nombre\": matriz, \"Villano\": pred3})\n",
    "dfv3 = villanos3.loc[villanos3['Nombre'] == \"Batcow\"]\n",
    "df2v3 = villanos3.loc[villanos3[\"Nombre\"] == \"Vergil\"]\n",
    "df3v3 = villanos3.loc[villanos3[\"Nombre\"] == \"Gorilla Girl\"]\n",
    "df_villanos3 = villanos3.loc[villanos3[\"Villano\"] == 1]\n",
    "df_villanos3"
   ]
  },
  {
   "cell_type": "markdown",
   "metadata": {
    "cell_id": "00045-bf830861-7edd-434b-93f5-af4b0404ce83",
    "deepnote_cell_height": 269,
    "deepnote_cell_type": "markdown",
    "id": "Rg4ZMq8ezAH6"
   },
   "source": [
    "<p align=\"center\">\n",
    "  <img src=\"https://media1.tenor.com/images/fb5bf7cc5a4acb91b4177672886a88ba/tenor.gif?itemid=5591338\">\n",
    "</p>"
   ]
  },
  {
   "cell_type": "markdown",
   "metadata": {
    "created_in_deepnote_cell": true,
    "deepnote_cell_type": "markdown",
    "tags": []
   },
   "source": [
    "<a style='text-decoration:none;line-height:16px;display:flex;color:#5B5B62;padding:10px;justify-content:end;' href='https://deepnote.com?utm_source=created-in-deepnote-cell&projectId=87110296-876e-426f-b91d-aaf681223468' target=\"_blank\">\n",
    "<img alt='Created in deepnote.com' style='display:inline;max-height:16px;margin:0px;margin-right:7.5px;' src='data:image/svg+xml;base64,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' > </img>\n",
    "Created in <span style='font-weight:600;margin-left:4px;'>Deepnote</span></a>"
   ]
  }
 ],
 "metadata": {
  "colab": {
   "collapsed_sections": [
    "LCOUC4jss148",
    "GtG74Cphq56p"
   ],
   "name": "Laboratorio4.ipynb",
   "provenance": [],
   "toc_visible": true
  },
  "deepnote": {},
  "deepnote_execution_queue": [],
  "deepnote_notebook_id": "038fcdf2-d87a-4a74-89c6-f5afff22afb6",
  "kernelspec": {
   "display_name": "Python 3",
   "language": "python",
   "name": "python3"
  },
  "language_info": {
   "codemirror_mode": {
    "name": "ipython",
    "version": 3
   },
   "file_extension": ".py",
   "mimetype": "text/x-python",
   "name": "python",
   "nbconvert_exporter": "python",
   "pygments_lexer": "ipython3",
   "version": "3.8.5"
  },
  "toc": {
   "base_numbering": 1,
   "nav_menu": {},
   "number_sections": true,
   "sideBar": true,
   "skip_h1_title": true,
   "title_cell": "Tabla de Contenidos",
   "title_sidebar": "Contenidos",
   "toc_cell": false,
   "toc_position": {
    "height": "calc(100% - 180px)",
    "left": "10px",
    "top": "150px",
    "width": "241.867px"
   },
   "toc_section_display": true,
   "toc_window_display": true
  },
  "varInspector": {
   "cols": {
    "lenName": 16,
    "lenType": 16,
    "lenVar": 40
   },
   "kernels_config": {
    "python": {
     "delete_cmd_postfix": "",
     "delete_cmd_prefix": "del ",
     "library": "var_list.py",
     "varRefreshCmd": "print(var_dic_list())"
    },
    "r": {
     "delete_cmd_postfix": ") ",
     "delete_cmd_prefix": "rm(",
     "library": "var_list.r",
     "varRefreshCmd": "cat(var_dic_list()) "
    }
   },
   "types_to_exclude": [
    "module",
    "function",
    "builtin_function_or_method",
    "instance",
    "_Feature"
   ],
   "window_display": false
  }
 },
 "nbformat": 4,
 "nbformat_minor": 1
}
